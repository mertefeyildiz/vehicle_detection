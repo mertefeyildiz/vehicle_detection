{
  "nbformat": 4,
  "nbformat_minor": 0,
  "metadata": {
    "colab": {
      "provenance": []
    },
    "kernelspec": {
      "name": "python3",
      "display_name": "Python 3"
    },
    "language_info": {
      "name": "python"
    },
    "gpuClass": "standard",
    "accelerator": "GPU"
  },
  "cells": [
    {
      "cell_type": "markdown",
      "source": [],
      "metadata": {
        "id": "ODcxTQJCfAxU"
      }
    },
    {
      "cell_type": "code",
      "source": [
        "!apt install unzip\n",
        "\n",
        "!unzip  yolo_v5.zip -d ./"
      ],
      "metadata": {
        "id": "HsGxFKu_g-hQ"
      },
      "execution_count": null,
      "outputs": []
    },
    {
      "cell_type": "markdown",
      "source": [
        "labelları detection için uygun hale getirme"
      ],
      "metadata": {
        "id": "qWuabqdagaCO"
      }
    },
    {
      "cell_type": "code",
      "source": [
        "import os\n",
        "\n",
        "# Klasör yolunu verin\n",
        "folder_path = \"yolo_v5/datasets/labels/valid\"\n",
        "\n",
        "# Tüm .txt dosyalarının yollarını alın\n",
        "txt_file_paths = [os.path.join(folder_path, file) for file in os.listdir(folder_path) if file.endswith(\".txt\")]\n",
        "\n",
        "# Dosyaları tek tek açın ve her bir satırdaki ilk sütunu 0 yapın\n",
        "for txt_file_path in txt_file_paths:\n",
        "    with open(txt_file_path, \"r\") as f:\n",
        "        lines = f.readlines()\n",
        "    with open(txt_file_path, \"w\") as f:\n",
        "        for line in lines:\n",
        "            split_line = line.split()\n",
        "            split_line[0] = \"0\"\n",
        "            f.write(\" \".join(split_line) + \"\\n\")\n"
      ],
      "metadata": {
        "id": "ReIyFZ2Z4HvT"
      },
      "execution_count": null,
      "outputs": []
    },
    {
      "cell_type": "code",
      "execution_count": null,
      "metadata": {
        "id": "-LDatfWO6pdf"
      },
      "outputs": [],
      "source": [
        "#clone YOLOv5 and \n",
        "#!git clone https://github.com/ultralytics/yolov5  # repostory'i klonluyoruz\n",
        "%cd yolo_v5/yolov5 \n",
        "%pip install -r requirements.txt # gerekli kütüphaneleri install ediyoruz"
      ]
    },
    {
      "cell_type": "code",
      "source": [
        "!python train.py --resume --img 640 --batch 16 --epochs 60 --data vehicle.yaml --weights yolov5x.pt"
      ],
      "metadata": {
        "id": "JwbNSOwf7NxR"
      },
      "execution_count": null,
      "outputs": []
    },
    {
      "cell_type": "code",
      "source": [
        "!python val.py --weights runs/train/exp15/weights/best.pt --data vehicle.yaml --img 640"
      ],
      "metadata": {
        "id": "-jYTamOMcJ2v"
      },
      "execution_count": null,
      "outputs": []
    },
    {
      "cell_type": "code",
      "source": [
        "!python detect.py --weights runs/train/exp15/weights/best.pt --source ../datasets/Vehicle_test_dataset/"
      ],
      "metadata": {
        "colab": {
          "base_uri": "https://localhost:8080/"
        },
        "id": "SprW1GcprmgH",
        "outputId": "751afabb-03d3-4a27-e3fd-9c353856de77"
      },
      "execution_count": null,
      "outputs": [
        {
          "output_type": "stream",
          "name": "stdout",
          "text": [
            "\u001b[34m\u001b[1mdetect: \u001b[0mweights=['runs/train/exp15/weights/best.pt'], source=../datasets/Vehicle_test_dataset/, data=data/coco128.yaml, imgsz=[640, 640], conf_thres=0.25, iou_thres=0.45, max_det=1000, device=, view_img=False, save_txt=False, save_conf=False, save_crop=False, nosave=False, classes=None, agnostic_nms=False, augment=False, visualize=False, update=False, project=runs/detect, name=exp, exist_ok=False, line_thickness=3, hide_labels=False, hide_conf=False, half=False, dnn=False, vid_stride=1\n",
            "YOLOv5 🚀 v7.0-55-g632bf48 Python-3.8.16 torch-1.13.0+cu116 CUDA:0 (Tesla T4, 15110MiB)\n",
            "\n",
            "Fusing layers... \n",
            "Model summary: 322 layers, 86173414 parameters, 0 gradients, 203.8 GFLOPs\n",
            "image 1/10 /content/drive/MyDrive/yolo_v5/datasets/Vehicle_test_dataset/test1.jpg: 224x640 (no detections), 51.1ms\n",
            "image 2/10 /content/drive/MyDrive/yolo_v5/datasets/Vehicle_test_dataset/test10.jpg: 192x640 (no detections), 25.1ms\n",
            "image 3/10 /content/drive/MyDrive/yolo_v5/datasets/Vehicle_test_dataset/test2.jpg: 640x640 5 vehicles, 55.3ms\n",
            "image 4/10 /content/drive/MyDrive/yolo_v5/datasets/Vehicle_test_dataset/test3.jpg: 640x640 8 vehicles, 54.4ms\n",
            "image 5/10 /content/drive/MyDrive/yolo_v5/datasets/Vehicle_test_dataset/test4.jpg: 640x640 5 vehicles, 53.3ms\n",
            "image 6/10 /content/drive/MyDrive/yolo_v5/datasets/Vehicle_test_dataset/test5.jpg: 640x640 1 vehicle, 53.3ms\n",
            "image 7/10 /content/drive/MyDrive/yolo_v5/datasets/Vehicle_test_dataset/test6.jpg: 640x640 5 vehicles, 53.2ms\n",
            "image 8/10 /content/drive/MyDrive/yolo_v5/datasets/Vehicle_test_dataset/test7.jpg: 640x640 4 vehicles, 50.4ms\n",
            "image 9/10 /content/drive/MyDrive/yolo_v5/datasets/Vehicle_test_dataset/test8.jpg: 640x640 7 vehicles, 51.3ms\n",
            "image 10/10 /content/drive/MyDrive/yolo_v5/datasets/Vehicle_test_dataset/test9.jpg: 448x640 19 vehicles, 34.5ms\n",
            "Speed: 0.5ms pre-process, 48.2ms inference, 0.9ms NMS per image at shape (1, 3, 640, 640)\n",
            "Results saved to \u001b[1mruns/detect/exp5\u001b[0m\n"
          ]
        }
      ]
    }
  ]
}