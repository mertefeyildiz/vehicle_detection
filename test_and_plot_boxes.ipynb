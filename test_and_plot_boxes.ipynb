{
  "cells": [
    {
      "cell_type": "code",
      "execution_count": null,
      "id": "ba085d4b-a281-4d2d-9f5d-7ef1a683e9c8",
      "metadata": {
        "id": "ba085d4b-a281-4d2d-9f5d-7ef1a683e9c8"
      },
      "outputs": [],
      "source": [
        "import torch\n",
        "import torchvision\n",
        "import torchvision.transforms as transforms\n",
        "from tqdm import tqdm\n",
        "from torch import nn\n",
        "import numpy as np\n",
        "import os"
      ]
    },
    {
      "cell_type": "code",
      "execution_count": null,
      "id": "7c150512-88da-4688-b12d-0cb7c3c58044",
      "metadata": {
        "scrolled": true,
        "tags": [],
        "id": "7c150512-88da-4688-b12d-0cb7c3c58044"
      },
      "outputs": [],
      "source": [
        "device = torch.device(\"cuda:0\" if torch.cuda.is_available() else \"cpu\")\n",
        "#input = data.to(device)\n",
        "#model = MyModule(...).to(device)"
      ]
    },
    {
      "cell_type": "code",
      "execution_count": null,
      "id": "68c8e88b-3316-4d4d-a519-67e718327fb5",
      "metadata": {
        "id": "68c8e88b-3316-4d4d-a519-67e718327fb5",
        "outputId": "78ac3440-5f7a-4a3b-bcbc-3f1799649bad",
        "colab": {
          "base_uri": "https://localhost:8080/"
        }
      },
      "outputs": [
        {
          "output_type": "execute_result",
          "data": {
            "text/plain": [
              "device(type='cuda', index=0)"
            ]
          },
          "metadata": {},
          "execution_count": 6
        }
      ],
      "source": [
        "device"
      ]
    },
    {
      "cell_type": "markdown",
      "source": [
        "# PİPELİNE BAŞLANGIÇ"
      ],
      "metadata": {
        "id": "5xVjaA7hHwP9"
      },
      "id": "5xVjaA7hHwP9"
    },
    {
      "cell_type": "code",
      "source": [
        "# Model\n",
        "model_yolo = torch.hub.load('ultralytics/yolov5','yolov5x' ,'best_models/best_model_yolo.pt')"
      ],
      "metadata": {
        "id": "gyte38xAwYT0"
      },
      "id": "gyte38xAwYT0",
      "execution_count": null,
      "outputs": []
    },
    {
      "cell_type": "code",
      "source": [
        "model_main = torchvision.models.mobilenet_v2(pretrained=True).to(device)\n",
        "#Step 2: Freeze the model parameters\n",
        "for param in model_main.parameters():\n",
        "    param.requires_grad = False\n",
        "model_main.classifier = torch.nn.Linear(in_features=1280, out_features=3).to(device)\n",
        "model_main.load_state_dict(torch.load('best_models/best_model_main.pt'))\n",
        "model_main.to(device)\n",
        "model_main.eval()"
      ],
      "metadata": {
        "id": "Nr0M-lNaxSoT"
      },
      "id": "Nr0M-lNaxSoT",
      "execution_count": null,
      "outputs": []
    },
    {
      "cell_type": "code",
      "source": [
        "model_KBA = torchvision.models.mobilenet_v2(pretrained=True).to(device)\n",
        "#Step 2: Freeze the model parameters\n",
        "for param in model_KBA.parameters():\n",
        "    param.requires_grad = False\n",
        "model_KBA.classifier = torch.nn.Linear(in_features=1280, out_features=2).to(device)\n",
        "model_KBA.load_state_dict(torch.load('best_models/best_model_kba.pt'))\n",
        "model_KBA.to(device)\n",
        "model_KBA.eval()"
      ],
      "metadata": {
        "id": "bJmhr5l7xSy1"
      },
      "id": "bJmhr5l7xSy1",
      "execution_count": null,
      "outputs": []
    },
    {
      "cell_type": "code",
      "source": [
        "model_MA = torchvision.models.mobilenet_v2(pretrained=True).to(device)\n",
        "#Step 2: Freeze the model parameters\n",
        "for param in model_MA.parameters():\n",
        "    param.requires_grad = False\n",
        "model_MA.classifier = torch.nn.Linear(in_features=1280, out_features=2).to(device)\n",
        "model_MA.load_state_dict(torch.load('best_models/best_model_ma.pt'))\n",
        "model_MA.to(device)\n",
        "model_MA.eval()"
      ],
      "metadata": {
        "id": "beXsl2czxS1g"
      },
      "id": "beXsl2czxS1g",
      "execution_count": null,
      "outputs": []
    },
    {
      "cell_type": "code",
      "source": [
        "model_TA = torchvision.models.mobilenet_v2(pretrained=True).to(device)\n",
        "#Step 2: Freeze the model parameters\n",
        "for param in model_TA.parameters():\n",
        "    param.requires_grad = False\n",
        "model_TA.classifier = torch.nn.Linear(in_features=1280, out_features=4).to(device)\n",
        "model_TA.load_state_dict(torch.load('best_models/best_model_ta.pt'))\n",
        "model_TA.to(device)\n",
        "model_TA.eval()"
      ],
      "metadata": {
        "id": "gZOX7YK3xS4V"
      },
      "id": "gZOX7YK3xS4V",
      "execution_count": null,
      "outputs": []
    },
    {
      "cell_type": "code",
      "source": [
        "def softmax_(vector_):\n",
        "  e = np.exp(vector_)\n",
        "  return e / e.sum()"
      ],
      "metadata": {
        "id": "RG2NL_NP6JWO"
      },
      "id": "RG2NL_NP6JWO",
      "execution_count": null,
      "outputs": []
    },
    {
      "cell_type": "code",
      "source": [
        "\n",
        "main_class_name_dict = {\n",
        "    0: \"KBA\",\n",
        "    1: \"MA\",\n",
        "    2: \"TA\"\n",
        "}\n",
        "\n",
        "KBA_class_name_dict = {\n",
        "    0: \"auto\",\n",
        "    1: \"car\"\n",
        "}\n",
        "\n",
        "MA_class_name_dict = {\n",
        "    0: \"lcv\",\n",
        "    1: \"motorcycle\"\n",
        "}\n",
        "\n",
        "TA_class_name_dict = {\n",
        "    0: \"bus\",\n",
        "    1: \"multiaxle\",\n",
        "    2: \"tractor\",\n",
        "    3: \"truck\"\n",
        "}\n"
      ],
      "metadata": {
        "id": "es0hfiFH1cCI"
      },
      "id": "es0hfiFH1cCI",
      "execution_count": null,
      "outputs": []
    },
    {
      "cell_type": "code",
      "source": [
        "\n",
        "from itertools import zip_longest\n",
        "import time\n",
        "start = time.time()\n",
        "\n",
        "\n",
        "file_path = \"Vehicle_test_dataset/test10.jpg\"\n",
        "results_yolo = model_yolo(file_path)\n",
        "crops = results_yolo.crop(save=True)  # cropped detections dictionary,\n",
        "\n",
        "coords = []\n",
        "classes = []\n",
        "pred_proba_ma = \"\"\n",
        "pred_proba_ta = \"\"\n",
        "pred_proba_kba = \"\"\n",
        "\n",
        "for crop in crops:\n",
        "  class_name = None\n",
        "  coord = (crop[\"box\"][0].to(\"cpu\").item(),\n",
        "                              crop[\"box\"][1].to(\"cpu\").item(),\n",
        "                              crop[\"box\"][2].to(\"cpu\").item(),\n",
        "                              crop[\"box\"][3].to(\"cpu\").item())\n",
        "  cropped_arr_arr = crop[\"im\"]\n",
        "\n",
        "  sf_out = model_main(torch.Tensor(np.expand_dims(np.moveaxis(cropped_arr_arr,2,0).copy(),axis=0)).to(device)).to(\"cpu\").detach().numpy()\n",
        "  probas = softmax_(sf_out)\n",
        "  pred_cls_idx, pred_proba = np.argmax(probas),np.max(probas)\n",
        "\n",
        "  # Apply the classification model to the image\n",
        "  if pred_proba < 0.80:\n",
        "    class_name = \"vehicle\"\n",
        "  else:\n",
        "    main_cls_name = main_class_name_dict[pred_cls_idx]\n",
        "    if main_cls_name == \"KBA\":\n",
        "      sf_out_kba = model_KBA(torch.Tensor(np.expand_dims(np.moveaxis(cropped_arr_arr,2,0).copy(),axis=0)).to(device)).to(\"cpu\").detach().numpy()\n",
        "      probas_kba = softmax_(sf_out_kba)\n",
        "      pred_cls_idx_kba, pred_proba_kba = np.argmax(probas_kba),np.max(probas_kba)\n",
        "      if pred_proba_kba < 0.6:\n",
        "        class_name = \"KBA\"\n",
        "      else:\n",
        "        class_name = KBA_class_name_dict[pred_cls_idx_kba]\n",
        "        \n",
        "    elif main_cls_name == \"MA\":\n",
        "      sf_out_ma = model_MA(torch.Tensor(np.expand_dims(np.moveaxis(cropped_arr_arr,2,0).copy(),axis=0)).to(device)).to(\"cpu\").detach().numpy()\n",
        "      probas_ma = softmax_(sf_out_ma)\n",
        "      pred_cls_idx_ma, pred_proba_ma = np.argmax(probas_ma),np.max(probas_ma)\n",
        "      if pred_proba_ma < 0.6:\n",
        "        class_name = \"MA\"\n",
        "      else:\n",
        "        class_name = MA_class_name_dict[pred_cls_idx_ma]\n",
        "    elif main_cls_name == \"TA\":\n",
        "      sf_out_ta = model_TA(torch.Tensor(np.expand_dims(np.moveaxis(cropped_arr_arr,2,0).copy(),axis=0)).to(device)).to(\"cpu\").detach().numpy()\n",
        "      probas_ta = softmax_(sf_out_ta)\n",
        "      pred_cls_idx_ta, pred_proba_ta = np.argmax(probas_ta),np.max(probas_ta)\n",
        "      if pred_proba_ta < 0.6:\n",
        "        class_name = \"TA\"\n",
        "      else:\n",
        "        class_name = TA_class_name_dict[pred_cls_idx_ta]\n",
        "  split_path = file_path.rsplit(\"/\", 1)\n",
        "  with open(str(split_path[1])+\".txt\", \"a\") as file:\n",
        "    file.write(class_name + \" \" + str(pred_proba) + \" \" + str(pred_proba_ma) + \" \" + str(pred_proba_ta) + \" \" + str(pred_proba_kba) + \"\\n\")\n",
        "\n",
        "  coords.append(coord) #xyxy\n",
        "  classes.append(class_name)\n",
        "  \n",
        "\n",
        "# Process the result\n",
        "\n",
        "from PIL import Image, ImageDraw\n",
        "\n",
        "def visualize_boxes(image, boxes, box_names):\n",
        "    # Load the image\n",
        "    im = Image.open(image)\n",
        "\n",
        "    # Create a drawing object\n",
        "    draw = ImageDraw.Draw(im)\n",
        "    \n",
        "\n",
        "    # Iterate through the boxes and draw them on the image\n",
        "    for box, name in zip(boxes, box_names):\n",
        "        x1, y1, x2, y2 = box\n",
        "        draw.rectangle((x1, y1, x2, y2), outline='red')\n",
        "        draw.text((x1, y1), name, fill='red')\n",
        "\n",
        "    # Display the image\n",
        "    #im.show()\n",
        "    display(im)\n",
        "# Example usage\n",
        "\n",
        "visualize_boxes(file_path, coords, classes)\n",
        "\n",
        "end = time.time()\n",
        "print(end - start)\n",
        "\n",
        "\n"
      ],
      "metadata": {
        "id": "OVTbpvn7ESyB"
      },
      "id": "OVTbpvn7ESyB",
      "execution_count": null,
      "outputs": []
    }
  ],
  "metadata": {
    "kernelspec": {
      "display_name": "Python 3 (ipykernel)",
      "language": "python",
      "name": "python3"
    },
    "language_info": {
      "codemirror_mode": {
        "name": "ipython",
        "version": 3
      },
      "file_extension": ".py",
      "mimetype": "text/x-python",
      "name": "python",
      "nbconvert_exporter": "python",
      "pygments_lexer": "ipython3",
      "version": "3.8.12"
    },
    "colab": {
      "provenance": []
    },
    "accelerator": "GPU",
    "gpuClass": "standard"
  },
  "nbformat": 4,
  "nbformat_minor": 5
}