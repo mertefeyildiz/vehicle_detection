{
  "cells": [
    {
      "cell_type": "code",
      "execution_count": null,
      "id": "ba085d4b-a281-4d2d-9f5d-7ef1a683e9c8",
      "metadata": {
        "id": "ba085d4b-a281-4d2d-9f5d-7ef1a683e9c8"
      },
      "outputs": [],
      "source": [
        "import torch\n",
        "import torchvision\n",
        "import torchvision.transforms as transforms\n",
        "from tqdm import tqdm\n",
        "from torch import nn\n",
        "import os"
      ]
    },
    {
      "cell_type": "code",
      "execution_count": null,
      "id": "7c150512-88da-4688-b12d-0cb7c3c58044",
      "metadata": {
        "scrolled": true,
        "tags": [],
        "id": "7c150512-88da-4688-b12d-0cb7c3c58044"
      },
      "outputs": [],
      "source": [
        "device = torch.device(\"cuda:0\" if torch.cuda.is_available() else \"cpu\")\n"
      ]
    },
    {
      "cell_type": "code",
      "execution_count": null,
      "id": "68c8e88b-3316-4d4d-a519-67e718327fb5",
      "metadata": {
        "id": "68c8e88b-3316-4d4d-a519-67e718327fb5",
        "outputId": "8a5cc752-cfd4-441c-a523-baabf52578a5"
      },
      "outputs": [
        {
          "data": {
            "text/plain": [
              "device(type='cuda', index=0)"
            ]
          },
          "execution_count": 3,
          "metadata": {},
          "output_type": "execute_result"
        }
      ],
      "source": [
        "device"
      ]
    },
    {
      "cell_type": "code",
      "execution_count": null,
      "id": "dde429c4-db3e-439e-9eba-a761cc51a60f",
      "metadata": {
        "id": "dde429c4-db3e-439e-9eba-a761cc51a60f"
      },
      "outputs": [],
      "source": [
        "# Step 1: Load the pre-trained model\n",
        "model = torchvision.models.mobilenet_v2(pretrained=True).to(device)\n",
        "\n",
        "#Step 2: Freeze the model parameters\n",
        "for param in model.parameters():\n",
        "    param.requires_grad = False"
      ]
    },
    {
      "cell_type": "code",
      "execution_count": null,
      "id": "9af691eb-d5cb-46ab-8c3e-3bb67d7c262a",
      "metadata": {
        "id": "9af691eb-d5cb-46ab-8c3e-3bb67d7c262a"
      },
      "outputs": [],
      "source": [
        "model.classifier = torch.nn.Linear(in_features=1280, out_features=4).to(device)"
      ]
    },
    {
      "cell_type": "code",
      "execution_count": null,
      "id": "ccc332cc-5fef-4b1b-9abf-418e1a4890a8",
      "metadata": {
        "id": "ccc332cc-5fef-4b1b-9abf-418e1a4890a8"
      },
      "outputs": [],
      "source": [
        "\n",
        "# Step 4: Load the images and create dataloaders\n",
        "# Assuming your dataset has 3 classes and is organized into\n",
        "# folders with class names:\n",
        "data_transform = transforms.Compose([\n",
        "    transforms.Resize(128),\n",
        "    #transforms.CenterCrop(224),\n",
        "    transforms.ToTensor(),\n",
        "    transforms.Normalize([0.485, 0.456, 0.406], [0.229, 0.224, 0.225]),\n",
        "    transforms.RandomVerticalFlip(0.1),\n",
        "    transforms.RandomRotation((-0.15,0.15))\n",
        "])\n",
        "\n",
        "val_data_transform = transforms.Compose([\n",
        "    transforms.Resize(128),\n",
        "    #transforms.CenterCrop(224),\n",
        "    transforms.ToTensor(),\n",
        "    transforms.Normalize([0.485, 0.456, 0.406], [0.229, 0.224, 0.225]),\n",
        "\n",
        "])\n",
        "\n",
        "\n",
        "# Load the training data\n",
        "train_dataset = torchvision.datasets.ImageFolder(root='train', transform=data_transform)\n",
        "train_loader = torch.utils.data.DataLoader(train_dataset, batch_size=512, shuffle=True,pin_memory = True)\n",
        "\n",
        "# Load the validation data\n",
        "val_dataset = torchvision.datasets.ImageFolder(root='valid', transform=val_data_transform)\n",
        "val_loader = torch.utils.data.DataLoader(val_dataset, batch_size=512, shuffle=False,pin_memory = True)"
      ]
    },
    {
      "cell_type": "code",
      "execution_count": null,
      "id": "91f4f185-3ec8-4d7c-870c-fa164e0590f6",
      "metadata": {
        "id": "91f4f185-3ec8-4d7c-870c-fa164e0590f6"
      },
      "outputs": [],
      "source": [
        "# Step 5: Choose an optimizer and loss function\n",
        "optimizer = torch.optim.Adam(model.parameters())\n",
        "loss_fn = torch.nn.CrossEntropyLoss()\n",
        "\n",
        "\n",
        "num_epochs=300\n",
        "best_loss = float('inf')\n",
        "\n",
        "model = model.to(device)"
      ]
    },
    {
      "cell_type": "code",
      "execution_count": null,
      "id": "7d97759d-4754-4758-a620-aff996e86ef1",
      "metadata": {
        "id": "7d97759d-4754-4758-a620-aff996e86ef1",
        "outputId": "8f306654-bf08-428c-80c5-df77499b2732"
      },
      "outputs": [
        {
          "name": "stderr",
          "output_type": "stream",
          "text": [
            "20it [01:55,  5.76s/it]\n"
          ]
        },
        {
          "name": "stdout",
          "output_type": "stream",
          "text": [
            "Epoch 1: train_loss = 1.1131, train_acc = 0.5256, val_loss = 0.9614, val_acc = 0.6068\n"
          ]
        },
        {
          "name": "stderr",
          "output_type": "stream",
          "text": [
            "20it [01:53,  5.68s/it]\n"
          ]
        },
        {
          "name": "stdout",
          "output_type": "stream",
          "text": [
            "Epoch 2: train_loss = 0.9198, train_acc = 0.6255, val_loss = 0.8483, val_acc = 0.6480\n"
          ]
        },
        {
          "name": "stderr",
          "output_type": "stream",
          "text": [
            "20it [01:54,  5.72s/it]\n"
          ]
        },
        {
          "name": "stdout",
          "output_type": "stream",
          "text": [
            "Epoch 3: train_loss = 0.8433, train_acc = 0.6450, val_loss = 0.7808, val_acc = 0.6837\n"
          ]
        },
        {
          "name": "stderr",
          "output_type": "stream",
          "text": [
            "20it [01:56,  5.83s/it]\n"
          ]
        },
        {
          "name": "stdout",
          "output_type": "stream",
          "text": [
            "Epoch 4: train_loss = 0.8071, train_acc = 0.6694, val_loss = 0.7526, val_acc = 0.6855\n"
          ]
        },
        {
          "name": "stderr",
          "output_type": "stream",
          "text": [
            "20it [01:57,  5.88s/it]\n"
          ]
        },
        {
          "name": "stdout",
          "output_type": "stream",
          "text": [
            "Epoch 5: train_loss = 0.7719, train_acc = 0.6795, val_loss = 0.7269, val_acc = 0.7065\n"
          ]
        },
        {
          "name": "stderr",
          "output_type": "stream",
          "text": [
            "20it [01:56,  5.82s/it]\n"
          ]
        },
        {
          "name": "stdout",
          "output_type": "stream",
          "text": [
            "Epoch 6: train_loss = 0.7475, train_acc = 0.6954, val_loss = 0.7137, val_acc = 0.7046\n"
          ]
        },
        {
          "name": "stderr",
          "output_type": "stream",
          "text": [
            "20it [01:56,  5.84s/it]\n"
          ]
        },
        {
          "name": "stdout",
          "output_type": "stream",
          "text": [
            "Epoch 7: train_loss = 0.7328, train_acc = 0.7054, val_loss = 0.7001, val_acc = 0.7157\n"
          ]
        },
        {
          "name": "stderr",
          "output_type": "stream",
          "text": [
            "20it [01:57,  5.86s/it]\n"
          ]
        },
        {
          "name": "stdout",
          "output_type": "stream",
          "text": [
            "Epoch 8: train_loss = 0.7096, train_acc = 0.7105, val_loss = 0.6908, val_acc = 0.7372\n"
          ]
        },
        {
          "name": "stderr",
          "output_type": "stream",
          "text": [
            "20it [01:53,  5.67s/it]\n"
          ]
        },
        {
          "name": "stdout",
          "output_type": "stream",
          "text": [
            "Epoch 9: train_loss = 0.7007, train_acc = 0.7215, val_loss = 0.6959, val_acc = 0.7348\n"
          ]
        },
        {
          "name": "stderr",
          "output_type": "stream",
          "text": [
            "20it [01:51,  5.58s/it]\n"
          ]
        },
        {
          "name": "stdout",
          "output_type": "stream",
          "text": [
            "Epoch 10: train_loss = 0.6977, train_acc = 0.7182, val_loss = 0.6817, val_acc = 0.7329\n"
          ]
        },
        {
          "name": "stderr",
          "output_type": "stream",
          "text": [
            "20it [01:51,  5.58s/it]\n"
          ]
        },
        {
          "name": "stdout",
          "output_type": "stream",
          "text": [
            "Epoch 11: train_loss = 0.6750, train_acc = 0.7335, val_loss = 0.6673, val_acc = 0.7434\n"
          ]
        },
        {
          "name": "stderr",
          "output_type": "stream",
          "text": [
            "20it [01:52,  5.62s/it]\n"
          ]
        },
        {
          "name": "stdout",
          "output_type": "stream",
          "text": [
            "Epoch 12: train_loss = 0.6662, train_acc = 0.7342, val_loss = 0.6776, val_acc = 0.7452\n"
          ]
        },
        {
          "name": "stderr",
          "output_type": "stream",
          "text": [
            "20it [01:49,  5.48s/it]\n"
          ]
        },
        {
          "name": "stdout",
          "output_type": "stream",
          "text": [
            "Epoch 13: train_loss = 0.6776, train_acc = 0.7261, val_loss = 0.6475, val_acc = 0.7495\n"
          ]
        },
        {
          "name": "stderr",
          "output_type": "stream",
          "text": [
            "20it [01:50,  5.54s/it]\n"
          ]
        },
        {
          "name": "stdout",
          "output_type": "stream",
          "text": [
            "Epoch 14: train_loss = 0.6486, train_acc = 0.7450, val_loss = 0.6410, val_acc = 0.7428\n"
          ]
        },
        {
          "name": "stderr",
          "output_type": "stream",
          "text": [
            "20it [01:50,  5.54s/it]\n"
          ]
        },
        {
          "name": "stdout",
          "output_type": "stream",
          "text": [
            "Epoch 15: train_loss = 0.6385, train_acc = 0.7489, val_loss = 0.6400, val_acc = 0.7551\n"
          ]
        },
        {
          "name": "stderr",
          "output_type": "stream",
          "text": [
            "20it [01:49,  5.49s/it]\n"
          ]
        },
        {
          "name": "stdout",
          "output_type": "stream",
          "text": [
            "Epoch 16: train_loss = 0.6391, train_acc = 0.7520, val_loss = 0.6361, val_acc = 0.7563\n"
          ]
        },
        {
          "name": "stderr",
          "output_type": "stream",
          "text": [
            "20it [01:51,  5.58s/it]\n"
          ]
        },
        {
          "name": "stdout",
          "output_type": "stream",
          "text": [
            "Epoch 17: train_loss = 0.6449, train_acc = 0.7412, val_loss = 0.6644, val_acc = 0.7446\n"
          ]
        },
        {
          "name": "stderr",
          "output_type": "stream",
          "text": [
            "20it [01:51,  5.57s/it]\n"
          ]
        },
        {
          "name": "stdout",
          "output_type": "stream",
          "text": [
            "Epoch 18: train_loss = 0.6321, train_acc = 0.7482, val_loss = 0.6200, val_acc = 0.7785\n"
          ]
        },
        {
          "name": "stderr",
          "output_type": "stream",
          "text": [
            "20it [01:54,  5.72s/it]\n"
          ]
        },
        {
          "name": "stdout",
          "output_type": "stream",
          "text": [
            "Epoch 19: train_loss = 0.6198, train_acc = 0.7596, val_loss = 0.6157, val_acc = 0.7698\n"
          ]
        },
        {
          "name": "stderr",
          "output_type": "stream",
          "text": [
            "20it [01:48,  5.43s/it]\n"
          ]
        },
        {
          "name": "stdout",
          "output_type": "stream",
          "text": [
            "Epoch 20: train_loss = 0.6180, train_acc = 0.7615, val_loss = 0.6189, val_acc = 0.7551\n"
          ]
        },
        {
          "name": "stderr",
          "output_type": "stream",
          "text": [
            "20it [01:53,  5.66s/it]\n"
          ]
        },
        {
          "name": "stdout",
          "output_type": "stream",
          "text": [
            "Epoch 21: train_loss = 0.6112, train_acc = 0.7631, val_loss = 0.6099, val_acc = 0.7705\n"
          ]
        },
        {
          "name": "stderr",
          "output_type": "stream",
          "text": [
            "20it [01:49,  5.45s/it]\n"
          ]
        },
        {
          "name": "stdout",
          "output_type": "stream",
          "text": [
            "Epoch 22: train_loss = 0.6067, train_acc = 0.7722, val_loss = 0.6092, val_acc = 0.7649\n"
          ]
        },
        {
          "name": "stderr",
          "output_type": "stream",
          "text": [
            "20it [01:48,  5.40s/it]\n"
          ]
        },
        {
          "name": "stdout",
          "output_type": "stream",
          "text": [
            "Epoch 23: train_loss = 0.6004, train_acc = 0.7701, val_loss = 0.6052, val_acc = 0.7778\n"
          ]
        },
        {
          "name": "stderr",
          "output_type": "stream",
          "text": [
            "20it [01:48,  5.44s/it]\n"
          ]
        },
        {
          "name": "stdout",
          "output_type": "stream",
          "text": [
            "Epoch 24: train_loss = 0.5966, train_acc = 0.7753, val_loss = 0.5978, val_acc = 0.7797\n"
          ]
        },
        {
          "name": "stderr",
          "output_type": "stream",
          "text": [
            "20it [01:46,  5.33s/it]\n"
          ]
        },
        {
          "name": "stdout",
          "output_type": "stream",
          "text": [
            "Epoch 25: train_loss = 0.5868, train_acc = 0.7770, val_loss = 0.6152, val_acc = 0.7686\n"
          ]
        },
        {
          "name": "stderr",
          "output_type": "stream",
          "text": [
            "20it [01:44,  5.24s/it]\n"
          ]
        },
        {
          "name": "stdout",
          "output_type": "stream",
          "text": [
            "Epoch 26: train_loss = 0.5925, train_acc = 0.7755, val_loss = 0.6049, val_acc = 0.7612\n"
          ]
        },
        {
          "name": "stderr",
          "output_type": "stream",
          "text": [
            "20it [01:46,  5.30s/it]\n"
          ]
        },
        {
          "name": "stdout",
          "output_type": "stream",
          "text": [
            "Epoch 27: train_loss = 0.5865, train_acc = 0.7754, val_loss = 0.6099, val_acc = 0.7723\n"
          ]
        },
        {
          "name": "stderr",
          "output_type": "stream",
          "text": [
            "20it [01:45,  5.29s/it]\n"
          ]
        },
        {
          "name": "stdout",
          "output_type": "stream",
          "text": [
            "Epoch 28: train_loss = 0.5826, train_acc = 0.7785, val_loss = 0.5949, val_acc = 0.7822\n"
          ]
        },
        {
          "name": "stderr",
          "output_type": "stream",
          "text": [
            "20it [01:47,  5.39s/it]\n"
          ]
        },
        {
          "name": "stdout",
          "output_type": "stream",
          "text": [
            "Epoch 29: train_loss = 0.5754, train_acc = 0.7857, val_loss = 0.5952, val_acc = 0.7766\n"
          ]
        },
        {
          "name": "stderr",
          "output_type": "stream",
          "text": [
            "20it [01:47,  5.39s/it]\n"
          ]
        },
        {
          "name": "stdout",
          "output_type": "stream",
          "text": [
            "Epoch 30: train_loss = 0.5805, train_acc = 0.7812, val_loss = 0.5924, val_acc = 0.7803\n"
          ]
        },
        {
          "name": "stderr",
          "output_type": "stream",
          "text": [
            "20it [01:49,  5.47s/it]\n"
          ]
        },
        {
          "name": "stdout",
          "output_type": "stream",
          "text": [
            "Epoch 31: train_loss = 0.5702, train_acc = 0.7849, val_loss = 0.5817, val_acc = 0.7840\n"
          ]
        },
        {
          "name": "stderr",
          "output_type": "stream",
          "text": [
            "20it [01:48,  5.43s/it]\n"
          ]
        },
        {
          "name": "stdout",
          "output_type": "stream",
          "text": [
            "Epoch 32: train_loss = 0.5712, train_acc = 0.7850, val_loss = 0.5923, val_acc = 0.7717\n"
          ]
        },
        {
          "name": "stderr",
          "output_type": "stream",
          "text": [
            "20it [01:50,  5.53s/it]\n"
          ]
        },
        {
          "name": "stdout",
          "output_type": "stream",
          "text": [
            "Epoch 33: train_loss = 0.5656, train_acc = 0.7812, val_loss = 0.5806, val_acc = 0.7815\n"
          ]
        },
        {
          "name": "stderr",
          "output_type": "stream",
          "text": [
            "20it [01:48,  5.43s/it]\n"
          ]
        },
        {
          "name": "stdout",
          "output_type": "stream",
          "text": [
            "Epoch 34: train_loss = 0.5648, train_acc = 0.7865, val_loss = 0.5796, val_acc = 0.7858\n"
          ]
        },
        {
          "name": "stderr",
          "output_type": "stream",
          "text": [
            "20it [01:47,  5.38s/it]\n"
          ]
        },
        {
          "name": "stdout",
          "output_type": "stream",
          "text": [
            "Epoch 35: train_loss = 0.5619, train_acc = 0.7913, val_loss = 0.5854, val_acc = 0.7692\n"
          ]
        },
        {
          "name": "stderr",
          "output_type": "stream",
          "text": [
            "20it [01:51,  5.59s/it]\n"
          ]
        },
        {
          "name": "stdout",
          "output_type": "stream",
          "text": [
            "Epoch 36: train_loss = 0.5617, train_acc = 0.7877, val_loss = 0.5885, val_acc = 0.7735\n"
          ]
        },
        {
          "name": "stderr",
          "output_type": "stream",
          "text": [
            "20it [01:56,  5.83s/it]\n"
          ]
        },
        {
          "name": "stdout",
          "output_type": "stream",
          "text": [
            "Epoch 37: train_loss = 0.5621, train_acc = 0.7820, val_loss = 0.5857, val_acc = 0.7846\n"
          ]
        },
        {
          "name": "stderr",
          "output_type": "stream",
          "text": [
            "20it [01:57,  5.88s/it]\n"
          ]
        },
        {
          "name": "stdout",
          "output_type": "stream",
          "text": [
            "Epoch 38: train_loss = 0.5490, train_acc = 0.7942, val_loss = 0.5682, val_acc = 0.7994\n"
          ]
        },
        {
          "name": "stderr",
          "output_type": "stream",
          "text": [
            "20it [01:58,  5.91s/it]\n"
          ]
        },
        {
          "name": "stdout",
          "output_type": "stream",
          "text": [
            "Epoch 39: train_loss = 0.5488, train_acc = 0.7979, val_loss = 0.5688, val_acc = 0.8012\n"
          ]
        },
        {
          "name": "stderr",
          "output_type": "stream",
          "text": [
            "20it [01:57,  5.88s/it]\n"
          ]
        },
        {
          "name": "stdout",
          "output_type": "stream",
          "text": [
            "Epoch 40: train_loss = 0.5458, train_acc = 0.7978, val_loss = 0.5641, val_acc = 0.7902\n"
          ]
        },
        {
          "name": "stderr",
          "output_type": "stream",
          "text": [
            "20it [01:50,  5.53s/it]\n"
          ]
        },
        {
          "name": "stdout",
          "output_type": "stream",
          "text": [
            "Epoch 41: train_loss = 0.5330, train_acc = 0.8012, val_loss = 0.5729, val_acc = 0.7957\n"
          ]
        },
        {
          "name": "stderr",
          "output_type": "stream",
          "text": [
            "20it [01:51,  5.56s/it]\n"
          ]
        },
        {
          "name": "stdout",
          "output_type": "stream",
          "text": [
            "Epoch 42: train_loss = 0.5504, train_acc = 0.7928, val_loss = 0.5715, val_acc = 0.7803\n"
          ]
        },
        {
          "name": "stderr",
          "output_type": "stream",
          "text": [
            "20it [01:48,  5.44s/it]\n"
          ]
        },
        {
          "name": "stdout",
          "output_type": "stream",
          "text": [
            "Epoch 43: train_loss = 0.5636, train_acc = 0.7826, val_loss = 0.5842, val_acc = 0.7809\n"
          ]
        },
        {
          "name": "stderr",
          "output_type": "stream",
          "text": [
            "20it [01:46,  5.33s/it]\n"
          ]
        },
        {
          "name": "stdout",
          "output_type": "stream",
          "text": [
            "Epoch 44: train_loss = 0.5404, train_acc = 0.7986, val_loss = 0.5672, val_acc = 0.7877\n"
          ]
        },
        {
          "name": "stderr",
          "output_type": "stream",
          "text": [
            "20it [01:47,  5.37s/it]\n"
          ]
        },
        {
          "name": "stdout",
          "output_type": "stream",
          "text": [
            "Epoch 45: train_loss = 0.5398, train_acc = 0.8004, val_loss = 0.5615, val_acc = 0.7957\n"
          ]
        },
        {
          "name": "stderr",
          "output_type": "stream",
          "text": [
            "20it [01:47,  5.38s/it]\n"
          ]
        },
        {
          "name": "stdout",
          "output_type": "stream",
          "text": [
            "Epoch 46: train_loss = 0.5388, train_acc = 0.7979, val_loss = 0.5802, val_acc = 0.7828\n"
          ]
        },
        {
          "name": "stderr",
          "output_type": "stream",
          "text": [
            "20it [01:49,  5.46s/it]\n"
          ]
        },
        {
          "name": "stdout",
          "output_type": "stream",
          "text": [
            "Epoch 47: train_loss = 0.5346, train_acc = 0.8000, val_loss = 0.5560, val_acc = 0.7920\n"
          ]
        },
        {
          "name": "stderr",
          "output_type": "stream",
          "text": [
            "20it [01:48,  5.42s/it]\n"
          ]
        },
        {
          "name": "stdout",
          "output_type": "stream",
          "text": [
            "Epoch 48: train_loss = 0.5313, train_acc = 0.8002, val_loss = 0.5812, val_acc = 0.7785\n"
          ]
        },
        {
          "name": "stderr",
          "output_type": "stream",
          "text": [
            "20it [01:47,  5.36s/it]\n"
          ]
        },
        {
          "name": "stdout",
          "output_type": "stream",
          "text": [
            "Epoch 49: train_loss = 0.5340, train_acc = 0.7986, val_loss = 0.5460, val_acc = 0.7988\n"
          ]
        },
        {
          "name": "stderr",
          "output_type": "stream",
          "text": [
            "20it [01:47,  5.39s/it]\n"
          ]
        },
        {
          "name": "stdout",
          "output_type": "stream",
          "text": [
            "Epoch 50: train_loss = 0.5218, train_acc = 0.8100, val_loss = 0.5435, val_acc = 0.7938\n"
          ]
        },
        {
          "name": "stderr",
          "output_type": "stream",
          "text": [
            "20it [01:47,  5.36s/it]\n"
          ]
        },
        {
          "name": "stdout",
          "output_type": "stream",
          "text": [
            "Epoch 51: train_loss = 0.5218, train_acc = 0.8101, val_loss = 0.5512, val_acc = 0.7908\n"
          ]
        },
        {
          "name": "stderr",
          "output_type": "stream",
          "text": [
            "20it [01:50,  5.52s/it]\n"
          ]
        },
        {
          "name": "stdout",
          "output_type": "stream",
          "text": [
            "Epoch 52: train_loss = 0.5274, train_acc = 0.8039, val_loss = 0.5612, val_acc = 0.7902\n"
          ]
        },
        {
          "name": "stderr",
          "output_type": "stream",
          "text": [
            "20it [01:48,  5.43s/it]\n"
          ]
        },
        {
          "name": "stdout",
          "output_type": "stream",
          "text": [
            "Epoch 53: train_loss = 0.5161, train_acc = 0.8129, val_loss = 0.5460, val_acc = 0.7994\n"
          ]
        },
        {
          "name": "stderr",
          "output_type": "stream",
          "text": [
            "20it [01:47,  5.36s/it]\n"
          ]
        },
        {
          "name": "stdout",
          "output_type": "stream",
          "text": [
            "Epoch 54: train_loss = 0.5150, train_acc = 0.8113, val_loss = 0.5439, val_acc = 0.8006\n"
          ]
        },
        {
          "name": "stderr",
          "output_type": "stream",
          "text": [
            "20it [01:49,  5.46s/it]\n"
          ]
        },
        {
          "name": "stdout",
          "output_type": "stream",
          "text": [
            "Epoch 55: train_loss = 0.5111, train_acc = 0.8167, val_loss = 0.5505, val_acc = 0.8006\n"
          ]
        },
        {
          "name": "stderr",
          "output_type": "stream",
          "text": [
            "15it [01:25,  5.73s/it]"
          ]
        }
      ],
      "source": [
        "for epoch in range(num_epochs):\n",
        "    # Training\n",
        "    model.train()\n",
        "    train_loss, train_acc = 0.0, 0.0\n",
        "\n",
        "    for i, (inputs, labels) in tqdm(enumerate(train_loader)):\n",
        "        optimizer.zero_grad()\n",
        "        outputs = model(inputs.to(device))\n",
        "        loss = loss_fn(outputs, labels.to(device))\n",
        "        loss.backward()\n",
        "        optimizer.step()\n",
        "        train_loss += loss.item() * inputs.size(0)\n",
        "        _, predictions = torch.max(outputs, 1)\n",
        "        train_acc += (predictions == labels.to(device)).sum().item()\n",
        "\n",
        "    # Validation\n",
        "    model.eval()\n",
        "    val_loss, val_acc = 0.0, 0.0\n",
        "    with torch.no_grad():\n",
        "        for inputs, labels in val_loader:\n",
        "            outputs = model(inputs.to(device))\n",
        "            loss = loss_fn(outputs, labels.to(device))\n",
        "            val_loss += loss.item() * inputs.size(0)\n",
        "            _, predictions = torch.max(outputs, 1)\n",
        "            val_acc += (predictions == labels.to(device)).sum().item()\n",
        "\n",
        "    # Calculate average losses and accuracy\n",
        "    train_loss = train_loss / len(train_loader.dataset)\n",
        "    train_acc = train_acc / len(train_loader.dataset)\n",
        "    val_loss = val_loss / len(val_loader.dataset)\n",
        "    val_acc = val_acc / len(val_loader.dataset)\n",
        "\n",
        "    # Print training and validation results\n",
        "    print(f'Epoch {epoch + 1}: train_loss = {train_loss:.4f}, train_acc = {train_acc:.4f}, val_loss = {val_loss:.4f}, val_acc = {val_acc:.4f}')\n",
        "\n",
        "    # Save model every epoch\n",
        "    torch.save(model.state_dict(), f'best_models/model_{epoch + 1}.pt')\n",
        "    \n",
        "    # Save best model\n",
        "    if val_loss < best_loss:\n",
        "        best_loss = val_loss\n",
        "        torch.save(model.state_dict(), 'best_models/best_model.pt')\n"
      ]
    }
  ],
  "metadata": {
    "kernelspec": {
      "display_name": "Python 3 (ipykernel)",
      "language": "python",
      "name": "python3"
    },
    "language_info": {
      "codemirror_mode": {
        "name": "ipython",
        "version": 3
      },
      "file_extension": ".py",
      "mimetype": "text/x-python",
      "name": "python",
      "nbconvert_exporter": "python",
      "pygments_lexer": "ipython3",
      "version": "3.8.12"
    },
    "colab": {
      "provenance": []
    }
  },
  "nbformat": 4,
  "nbformat_minor": 5
}