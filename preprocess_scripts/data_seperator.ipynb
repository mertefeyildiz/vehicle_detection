{
  "nbformat": 4,
  "nbformat_minor": 0,
  "metadata": {
    "colab": {
      "provenance": []
    },
    "kernelspec": {
      "name": "python3",
      "display_name": "Python 3"
    },
    "language_info": {
      "name": "python"
    }
  },
  "cells": [
    {
      "cell_type": "code",
      "source": [
        "import os\n",
        "import shutil\n",
        "import random"
      ],
      "metadata": {
        "id": "yHbTeYJYYs7k"
      },
      "execution_count": null,
      "outputs": []
    },
    {
      "cell_type": "code",
      "execution_count": null,
      "metadata": {
        "id": "3rGJ8hWiYBAk"
      },
      "outputs": [],
      "source": [
        "# Başlangıç klasörleri\n",
        "image_folder = 'cropped_images/train/7'\n",
        "\n",
        "\n",
        "# Hedef klasörler\n",
        "new_image_folder = 'cropped_images/valid/7'\n",
        "\n",
        "\n",
        "# Başlangıç klasörlerindeki dosyaları liste\n",
        "image_filenames = os.listdir(image_folder)\n",
        "\n",
        "\n",
        "# Rastgele seç\n",
        "random.shuffle(image_filenames)\n",
        "\n",
        "\n",
        "# %15'ini seç\n",
        "selected_image_filenames = image_filenames[:len(image_filenames) // 7]\n",
        "\n",
        "\n",
        "\n",
        "# Dosyaları hedef klasörlere taşı ve klasörler yoksa oluştur\n",
        "for image_filename in selected_image_filenames:\n",
        "    if not os.path.exists(new_image_folder):\n",
        "        os.makedirs(new_image_folder)\n",
        "    shutil.move(os.path.join(image_folder, image_filename), new_image_folder)\n",
        "\n"
      ]
    }
  ]
}