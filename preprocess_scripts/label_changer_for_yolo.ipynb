{
  "nbformat": 4,
  "nbformat_minor": 0,
  "metadata": {
    "colab": {
      "provenance": []
    },
    "kernelspec": {
      "name": "python3",
      "display_name": "Python 3"
    },
    "language_info": {
      "name": "python"
    }
  },
  "cells": [
    {
      "cell_type": "code",
      "source": [
        "import os"
      ],
      "metadata": {
        "id": "yHbTeYJYYs7k"
      },
      "execution_count": null,
      "outputs": []
    },
    {
      "cell_type": "code",
      "execution_count": null,
      "metadata": {
        "id": "3rGJ8hWiYBAk"
      },
      "outputs": [],
      "source": [
        "# Klasör yolunu verin\n",
        "folder_path = \"labels/valid\"\n",
        "\n",
        "# Tüm .txt dosyalarının yollarını al\n",
        "txt_file_paths = [os.path.join(folder_path, file) for file in os.listdir(folder_path) if file.endswith(\".txt\")]\n",
        "\n",
        "# Dosyaları tek tek açıp ve her bir satırdaki ilk sütunu 0 yap\n",
        "for txt_file_path in txt_file_paths:\n",
        "    with open(txt_file_path, \"r\") as f:\n",
        "        lines = f.readlines()\n",
        "    with open(txt_file_path, \"w\") as f:\n",
        "        for line in lines:\n",
        "            split_line = line.split()\n",
        "            split_line[0] = \"0\"\n",
        "            f.write(\" \".join(split_line) + \"\\n\")\n",
        "\n"
      ]
    }
  ]
}