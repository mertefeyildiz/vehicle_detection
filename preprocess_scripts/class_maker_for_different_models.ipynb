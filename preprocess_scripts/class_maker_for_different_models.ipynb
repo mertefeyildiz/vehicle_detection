{
  "nbformat": 4,
  "nbformat_minor": 0,
  "metadata": {
    "colab": {
      "provenance": []
    },
    "kernelspec": {
      "name": "python3",
      "display_name": "Python 3"
    },
    "language_info": {
      "name": "python"
    }
  },
  "cells": [
    {
      "cell_type": "code",
      "source": [
        "import os\n",
        "import shutil"
      ],
      "metadata": {
        "id": "yHbTeYJYYs7k"
      },
      "execution_count": null,
      "outputs": []
    },
    {
      "cell_type": "code",
      "execution_count": null,
      "metadata": {
        "id": "3rGJ8hWiYBAk"
      },
      "outputs": [],
      "source": [
        "\n",
        "# Kaynak dizinlerin yollarını belirle\n",
        "source_dir_1 = 'Desktop/crop/new_crops/valid/6'\n",
        "source_dir_2 = 'Desktop/crop/new_crops/valid/7'\n",
        "\n",
        "# Hedef dizinin yolunu belirle\n",
        "target_dir = 'Desktop/classification_3_main/valid/TA'\n",
        "\n",
        "# Kaynak dizinlerden dosyaları oku\n",
        "files_1 = os.listdir(source_dir_1)\n",
        "files_2 = os.listdir(source_dir_2)\n",
        "\n",
        "# Dosyaları hedef dizine taşı\n",
        "for file in files_1:\n",
        "    shutil.copy(os.path.join(source_dir_1, file), target_dir)\n",
        "\n",
        "# Dosyaları taşırken dosya isimlerini kontrol et ve zaten hedef dizinde olan dosyaların üzerine yazmamak için dosya isimlerini değiştir\n",
        "i = 1\n",
        "for file in files_2:\n",
        "    if os.path.exists(os.path.join(target_dir, file)):\n",
        "        new_name = str(i) + '_' + file\n",
        "        shutil.copy(os.path.join(source_dir_2, file), os.path.join(target_dir, new_name))\n",
        "        i += 1\n",
        "    else:\n",
        "        shutil.copy(os.path.join(source_dir_2, file), target_dir)\n"
      ]
    }
  ]
}