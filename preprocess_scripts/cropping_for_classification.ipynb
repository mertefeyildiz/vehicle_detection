{
  "nbformat": 4,
  "nbformat_minor": 0,
  "metadata": {
    "colab": {
      "provenance": []
    },
    "kernelspec": {
      "name": "python3",
      "display_name": "Python 3"
    },
    "language_info": {
      "name": "python"
    }
  },
  "cells": [
    {
      "cell_type": "code",
      "source": [
        "!apt install unzip\n",
        "\n",
        "!unzip  vaka.zip -d ./"
      ],
      "metadata": {
        "id": "yiqLgAd1ItRB"
      },
      "execution_count": null,
      "outputs": []
    },
    {
      "cell_type": "code",
      "source": [
        "import cv2\n",
        "import numpy as np \n",
        "import os"
      ],
      "metadata": {
        "id": "MAm-B5glIuTI"
      },
      "execution_count": null,
      "outputs": []
    },
    {
      "cell_type": "code",
      "source": [
        "labels = np.load('vaka/detection/train/labels.npy', allow_pickle=True)\n",
        "image_path = \"vaka/detection/train/images/\"\n",
        "class_path = \"cropped_images/\""
      ],
      "metadata": {
        "id": "iI2HxkA_I3Mg"
      },
      "execution_count": null,
      "outputs": []
    },
    {
      "cell_type": "code",
      "source": [
        "images = os.listdir(image_path)\n",
        "\n",
        "for image in images:\n",
        "  if image.endswith(\".txt\"):\n",
        "    images.remove(image)\n"
      ],
      "metadata": {
        "id": "fIKXWeuFI3Rp"
      },
      "execution_count": null,
      "outputs": []
    },
    {
      "cell_type": "code",
      "execution_count": null,
      "metadata": {
        "id": "BW8xp6oLw9-T"
      },
      "outputs": [],
      "source": [
        "\n",
        "for i, image in enumerate(images):\n",
        "    \n",
        "    image = cv2.imread(image_path + image)\n",
        "    H, W, _ = image.shape\n",
        "    \n",
        "    for j in range(labels[i].shape[1]):\n",
        "        # Load image\n",
        "        #img = cv2.imread(image)\n",
        "        \"\"\"\n",
        "        # Process label\n",
        "        class_name = labels[i]\n",
        "        center_x = labels[i][j]\n",
        "        center_y = labels[i][j]\n",
        "        width = labels[i][j]\n",
        "        height = labels[i][j]\n",
        "        \"\"\"\n",
        "        \n",
        "        iter_label=labels[i]\n",
        "        try:\n",
        "          class_name, center_x, center_y, width, height = iter_label[j]\n",
        "        except IndexError:\n",
        "          # Handle the error here\n",
        "          pass\n",
        "       # class_name, center_x, center_y, width, height = iter_label[j]\n",
        "        \n",
        "        x_min = int((float(center_x) - float(width)/2) * W)\n",
        "        y_min = int((float(center_y) - float(height)/2) * H)\n",
        "        x_max = int((float(center_x) + float(width)/2) * W)\n",
        "        y_max = int((float(center_y) + float(height)/2) * H)\n",
        "    \n",
        "        # Crop image using labels\n",
        "        cropped_img = image[y_min:y_max, x_min:x_max]\n",
        "        \n",
        "        # Save cropped image to class folder\n",
        "        if not os.path.exists(class_path+str(class_name)):\n",
        "            os.makedirs(class_path+str(class_name))\n",
        "        \n",
        "        cv2.imwrite(os.path.join(class_path + str(int(class_name)), str(j) + str(images[i])), cropped_img)\n",
        "        \n",
        "        "
      ]
    }
  ]
}