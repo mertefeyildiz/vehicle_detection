{
  "nbformat": 4,
  "nbformat_minor": 0,
  "metadata": {
    "colab": {
      "provenance": []
    },
    "kernelspec": {
      "name": "python3",
      "display_name": "Python 3"
    },
    "language_info": {
      "name": "python"
    }
  },
  "cells": [
    {
      "cell_type": "code",
      "source": [
        "import os\n",
        "from PIL import Image"
      ],
      "metadata": {
        "id": "yHbTeYJYYs7k"
      },
      "execution_count": null,
      "outputs": []
    },
    {
      "cell_type": "code",
      "execution_count": null,
      "metadata": {
        "id": "3rGJ8hWiYBAk"
      },
      "outputs": [],
      "source": [
        "# Klasördeki tüm görüntüleri al\n",
        "image_paths = [os.path.join(folder_path, f) for f in os.listdir(folder_path)]\n",
        "\n",
        "# Görüntüleri döngü içinde padding et\n",
        "for image_path in image_paths:\n",
        "  # Görüntüyü aç ve ölçülerini al\n",
        "  im = Image.open(image_path)\n",
        "  width, height = im.size\n",
        "\n",
        "  # Eğer görüntü kare değilse padding yap\n",
        "  if width != height:\n",
        "    # Farkı bulun\n",
        "    diff = abs(width - height)\n",
        "\n",
        "    # Görüntüyü genişlet\n",
        "    if width > height:\n",
        "        new_im = Image.new(im.mode, (width, width))\n",
        "        new_im.paste(im, (0, diff // 2))\n",
        "    else:\n",
        "        new_im = Image.new(im.mode, (height, height))\n",
        "        new_im.paste(im, (diff // 2, 0))\n",
        "    im = new_im\n",
        "\n",
        "  # Görüntüyü kaydet\n",
        "  im.save(image_path)\n",
        "\n",
        "\n"
      ]
    }
  ]
}